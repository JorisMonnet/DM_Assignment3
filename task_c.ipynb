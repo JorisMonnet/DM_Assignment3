{
 "cells": [
  {
   "cell_type": "markdown",
   "source": [
    "# Assignment 3\n",
    "\n",
    "## Digital Musicology\n",
    "\n",
    "@authors: Joris Monnet, Xingyu Pan, Yutaka Osaki, Yiwei Liu\n",
    "\n",
    "Due Date: 15/05/2024"
   ],
   "metadata": {
    "collapsed": false
   },
   "id": "24edde85e9e021bb"
  },
  {
   "cell_type": "markdown",
   "source": [
    "### Task C1"
   ],
   "metadata": {
    "collapsed": false
   },
   "id": "648c8b728e003875"
  },
  {
   "cell_type": "code",
   "execution_count": null,
   "id": "initial_id",
   "metadata": {
    "collapsed": true
   },
   "outputs": [],
   "source": []
  },
  {
   "cell_type": "markdown",
   "source": [
    "### Task C3"
   ],
   "metadata": {
    "collapsed": false
   },
   "id": "b04e7fe56848869b"
  },
  {
   "cell_type": "code",
   "outputs": [],
   "source": [],
   "metadata": {
    "collapsed": false
   },
   "id": "f68aeda296421fa8"
  },
  {
   "cell_type": "markdown",
   "source": [
    "### Task C4"
   ],
   "metadata": {
    "collapsed": false
   },
   "id": "3cf5f9a671ee52e5"
  },
  {
   "cell_type": "code",
   "outputs": [],
   "source": [],
   "metadata": {
    "collapsed": false
   },
   "id": "c65a15c09202b992"
  }
 ],
 "metadata": {
  "kernelspec": {
   "display_name": "Python 3",
   "language": "python",
   "name": "python3"
  },
  "language_info": {
   "codemirror_mode": {
    "name": "ipython",
    "version": 2
   },
   "file_extension": ".py",
   "mimetype": "text/x-python",
   "name": "python",
   "nbconvert_exporter": "python",
   "pygments_lexer": "ipython2",
   "version": "2.7.6"
  }
 },
 "nbformat": 4,
 "nbformat_minor": 5
}
